{
 "cells": [
  {
   "cell_type": "code",
   "execution_count": 15,
   "id": "desperate-latter",
   "metadata": {},
   "outputs": [],
   "source": [
    "from mlxtend.regressor import LinearRegression\n",
    "from sklearn.datasets import california_housing\n",
    "from sklearn.model_selection import train_test_split\n",
    "from sklearn import metrics\n",
    "# from mlxtend.evaluate import bootstrap_point632"
   ]
  },
  {
   "cell_type": "code",
   "execution_count": 7,
   "id": "vocal-thanks",
   "metadata": {},
   "outputs": [],
   "source": [
    "features = california_housing.fetch_california_housing()['data']\n",
    "target = california_housing.fetch_california_housing()['target']"
   ]
  },
  {
   "cell_type": "code",
   "execution_count": 9,
   "id": "finished-given",
   "metadata": {},
   "outputs": [],
   "source": [
    "X_train, X_test, Y_train, Y_test = train_test_split(features, target, train_size=0.7)"
   ]
  },
  {
   "cell_type": "markdown",
   "id": "agricultural-twins",
   "metadata": {},
   "source": [
    "# Linear Model"
   ]
  },
  {
   "cell_type": "code",
   "execution_count": 12,
   "id": "concerned-provincial",
   "metadata": {},
   "outputs": [],
   "source": [
    "lr_model = LinearRegression(epochs=100)"
   ]
  },
  {
   "cell_type": "code",
   "execution_count": 13,
   "id": "labeled-commodity",
   "metadata": {},
   "outputs": [
    {
     "data": {
      "text/plain": [
       "<mlxtend.regressor.linear_regression.LinearRegression at 0x7fa6217b7640>"
      ]
     },
     "execution_count": 13,
     "metadata": {},
     "output_type": "execute_result"
    }
   ],
   "source": [
    "lr_model.fit(X_train, Y_train)"
   ]
  },
  {
   "cell_type": "code",
   "execution_count": 16,
   "id": "available-assistant",
   "metadata": {},
   "outputs": [],
   "source": [
    "predictions = lr_model.predict(X_test)"
   ]
  },
  {
   "cell_type": "code",
   "execution_count": 17,
   "id": "arbitrary-burke",
   "metadata": {},
   "outputs": [
    {
     "data": {
      "text/plain": [
       "0.6144738288800817"
      ]
     },
     "execution_count": 17,
     "metadata": {},
     "output_type": "execute_result"
    }
   ],
   "source": [
    "metrics.r2_score(Y_test, predictions)"
   ]
  }
 ],
 "metadata": {
  "kernelspec": {
   "display_name": "Python 3",
   "language": "python",
   "name": "python3"
  },
  "language_info": {
   "codemirror_mode": {
    "name": "ipython",
    "version": 3
   },
   "file_extension": ".py",
   "mimetype": "text/x-python",
   "name": "python",
   "nbconvert_exporter": "python",
   "pygments_lexer": "ipython3",
   "version": "3.8.5"
  }
 },
 "nbformat": 4,
 "nbformat_minor": 5
}
