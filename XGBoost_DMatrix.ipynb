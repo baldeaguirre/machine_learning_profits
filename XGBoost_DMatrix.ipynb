{
 "cells": [
  {
   "cell_type": "code",
   "execution_count": 1,
   "id": "regional-claim",
   "metadata": {},
   "outputs": [
    {
     "name": "stderr",
     "output_type": "stream",
     "text": [
      "/home/baldeaguirre/.local/lib/python3.8/site-packages/sklearn/utils/deprecation.py:143: FutureWarning: The sklearn.datasets.california_housing module is  deprecated in version 0.22 and will be removed in version 0.24. The corresponding classes / functions should instead be imported from sklearn.datasets. Anything that cannot be imported from sklearn.datasets is now part of the private API.\n",
      "  warnings.warn(message, FutureWarning)\n"
     ]
    }
   ],
   "source": [
    "from sklearn.datasets import california_housing\n",
    "import xgboost as xgb"
   ]
  },
  {
   "cell_type": "code",
   "execution_count": 2,
   "id": "prepared-surfing",
   "metadata": {},
   "outputs": [],
   "source": [
    "features = california_housing.fetch_california_housing()['data']\n",
    "target = california_housing.fetch_california_housing()['target']"
   ]
  },
  {
   "cell_type": "code",
   "execution_count": 3,
   "id": "deadly-prospect",
   "metadata": {},
   "outputs": [],
   "source": [
    "data_DMatrix = xgb.DMatrix(data=features, label=target)"
   ]
  },
  {
   "cell_type": "code",
   "execution_count": 4,
   "id": "exterior-vessel",
   "metadata": {},
   "outputs": [
    {
     "name": "stdout",
     "output_type": "stream",
     "text": [
      "<xgboost.core.DMatrix object at 0x7f51b3d68e80>\n"
     ]
    }
   ],
   "source": [
    "print(data_DMatrix)"
   ]
  },
  {
   "cell_type": "code",
   "execution_count": 5,
   "id": "metric-assets",
   "metadata": {},
   "outputs": [
    {
     "data": {
      "text/plain": [
       "xgboost.core.DMatrix"
      ]
     },
     "execution_count": 5,
     "metadata": {},
     "output_type": "execute_result"
    }
   ],
   "source": [
    "type(data_DMatrix)"
   ]
  }
 ],
 "metadata": {
  "kernelspec": {
   "display_name": "Python 3",
   "language": "python",
   "name": "python3"
  },
  "language_info": {
   "codemirror_mode": {
    "name": "ipython",
    "version": 3
   },
   "file_extension": ".py",
   "mimetype": "text/x-python",
   "name": "python",
   "nbconvert_exporter": "python",
   "pygments_lexer": "ipython3",
   "version": "3.8.5"
  }
 },
 "nbformat": 4,
 "nbformat_minor": 5
}
