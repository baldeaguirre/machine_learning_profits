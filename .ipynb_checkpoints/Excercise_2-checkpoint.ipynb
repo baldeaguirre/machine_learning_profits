{
 "cells": [
  {
   "cell_type": "code",
   "execution_count": 1,
   "id": "moderate-plane",
   "metadata": {},
   "outputs": [],
   "source": [
    "from sklearn.preprocessing import StandardScaler\n",
    "from sklearn.decomposition import PCA\n",
    "from sklearn.cluster import KMeans\n",
    "from sklearn.metrics import silhouette_score\n",
    "from kneed import KneeLocator\n",
    "\n",
    "import pandas as pd\n",
    "import numpy as np\n",
    "import matplotlib.pyplot as plt"
   ]
  },
  {
   "cell_type": "code",
   "execution_count": 2,
   "id": "signal-journal",
   "metadata": {},
   "outputs": [],
   "source": [
    "df = pd.read_csv('Dataset_SKL.csv')"
   ]
  },
  {
   "cell_type": "code",
   "execution_count": 3,
   "id": "conceptual-september",
   "metadata": {},
   "outputs": [
    {
     "data": {
      "text/html": [
       "<div>\n",
       "<style scoped>\n",
       "    .dataframe tbody tr th:only-of-type {\n",
       "        vertical-align: middle;\n",
       "    }\n",
       "\n",
       "    .dataframe tbody tr th {\n",
       "        vertical-align: top;\n",
       "    }\n",
       "\n",
       "    .dataframe thead th {\n",
       "        text-align: right;\n",
       "    }\n",
       "</style>\n",
       "<table border=\"1\" class=\"dataframe\">\n",
       "  <thead>\n",
       "    <tr style=\"text-align: right;\">\n",
       "      <th></th>\n",
       "      <th>TB prevalence, all forms (per 100 000 population per year)</th>\n",
       "      <th>1990</th>\n",
       "      <th>1991</th>\n",
       "      <th>1992</th>\n",
       "      <th>1993</th>\n",
       "      <th>1994</th>\n",
       "      <th>1995</th>\n",
       "      <th>1996</th>\n",
       "      <th>1997</th>\n",
       "      <th>1998</th>\n",
       "      <th>1999</th>\n",
       "      <th>2000</th>\n",
       "      <th>2001</th>\n",
       "      <th>2002</th>\n",
       "      <th>2003</th>\n",
       "      <th>2004</th>\n",
       "      <th>2005</th>\n",
       "      <th>2006</th>\n",
       "      <th>2007</th>\n",
       "    </tr>\n",
       "  </thead>\n",
       "  <tbody>\n",
       "    <tr>\n",
       "      <th>0</th>\n",
       "      <td>Slovakia</td>\n",
       "      <td>55</td>\n",
       "      <td>56</td>\n",
       "      <td>59</td>\n",
       "      <td>59</td>\n",
       "      <td>56</td>\n",
       "      <td>51</td>\n",
       "      <td>46</td>\n",
       "      <td>42</td>\n",
       "      <td>38</td>\n",
       "      <td>35</td>\n",
       "      <td>32</td>\n",
       "      <td>30</td>\n",
       "      <td>29</td>\n",
       "      <td>26</td>\n",
       "      <td>25</td>\n",
       "      <td>21</td>\n",
       "      <td>20</td>\n",
       "      <td>20</td>\n",
       "    </tr>\n",
       "    <tr>\n",
       "      <th>1</th>\n",
       "      <td>Burkina Faso</td>\n",
       "      <td>179</td>\n",
       "      <td>196</td>\n",
       "      <td>208</td>\n",
       "      <td>221</td>\n",
       "      <td>233</td>\n",
       "      <td>246</td>\n",
       "      <td>251</td>\n",
       "      <td>271</td>\n",
       "      <td>286</td>\n",
       "      <td>308</td>\n",
       "      <td>338</td>\n",
       "      <td>368</td>\n",
       "      <td>398</td>\n",
       "      <td>419</td>\n",
       "      <td>426</td>\n",
       "      <td>421</td>\n",
       "      <td>411</td>\n",
       "      <td>403</td>\n",
       "    </tr>\n",
       "    <tr>\n",
       "      <th>2</th>\n",
       "      <td>Kyrgyzstan</td>\n",
       "      <td>90</td>\n",
       "      <td>93</td>\n",
       "      <td>93</td>\n",
       "      <td>93</td>\n",
       "      <td>101</td>\n",
       "      <td>118</td>\n",
       "      <td>141</td>\n",
       "      <td>165</td>\n",
       "      <td>147</td>\n",
       "      <td>146</td>\n",
       "      <td>156</td>\n",
       "      <td>169</td>\n",
       "      <td>153</td>\n",
       "      <td>145</td>\n",
       "      <td>139</td>\n",
       "      <td>136</td>\n",
       "      <td>135</td>\n",
       "      <td>134</td>\n",
       "    </tr>\n",
       "    <tr>\n",
       "      <th>3</th>\n",
       "      <td>Oman</td>\n",
       "      <td>40</td>\n",
       "      <td>36</td>\n",
       "      <td>29</td>\n",
       "      <td>25</td>\n",
       "      <td>22</td>\n",
       "      <td>22</td>\n",
       "      <td>15</td>\n",
       "      <td>15</td>\n",
       "      <td>14</td>\n",
       "      <td>14</td>\n",
       "      <td>13</td>\n",
       "      <td>14</td>\n",
       "      <td>13</td>\n",
       "      <td>13</td>\n",
       "      <td>12</td>\n",
       "      <td>13</td>\n",
       "      <td>13</td>\n",
       "      <td>14</td>\n",
       "    </tr>\n",
       "    <tr>\n",
       "      <th>4</th>\n",
       "      <td>Sweden</td>\n",
       "      <td>5</td>\n",
       "      <td>5</td>\n",
       "      <td>6</td>\n",
       "      <td>6</td>\n",
       "      <td>5</td>\n",
       "      <td>5</td>\n",
       "      <td>5</td>\n",
       "      <td>4</td>\n",
       "      <td>4</td>\n",
       "      <td>4</td>\n",
       "      <td>4</td>\n",
       "      <td>4</td>\n",
       "      <td>4</td>\n",
       "      <td>4</td>\n",
       "      <td>4</td>\n",
       "      <td>4</td>\n",
       "      <td>4</td>\n",
       "      <td>5</td>\n",
       "    </tr>\n",
       "  </tbody>\n",
       "</table>\n",
       "</div>"
      ],
      "text/plain": [
       "  TB prevalence, all forms (per 100 000 population per year) 1990 1991 1992  \\\n",
       "0                                           Slovakia           55   56   59   \n",
       "1                                       Burkina Faso          179  196  208   \n",
       "2                                         Kyrgyzstan           90   93   93   \n",
       "3                                               Oman           40   36   29   \n",
       "4                                             Sweden            5    5    6   \n",
       "\n",
       "  1993 1994 1995  1996  1997  1998  1999  2000  2001  2002  2003 2004 2005  \\\n",
       "0   59   56   51    46    42    38    35    32    30    29    26   25   21   \n",
       "1  221  233  246   251   271   286   308   338   368   398   419  426  421   \n",
       "2   93  101  118   141   165   147   146   156   169   153   145  139  136   \n",
       "3   25   22   22    15    15    14    14    13    14    13    13   12   13   \n",
       "4    6    5    5     5     4     4     4     4     4     4     4    4    4   \n",
       "\n",
       "  2006 2007  \n",
       "0   20   20  \n",
       "1  411  403  \n",
       "2  135  134  \n",
       "3   13   14  \n",
       "4    4    5  "
      ]
     },
     "execution_count": 3,
     "metadata": {},
     "output_type": "execute_result"
    }
   ],
   "source": [
    "df.head()"
   ]
  },
  {
   "cell_type": "code",
   "execution_count": 4,
   "id": "opposite-breakdown",
   "metadata": {},
   "outputs": [
    {
     "data": {
      "text/plain": [
       "(150, 19)"
      ]
     },
     "execution_count": 4,
     "metadata": {},
     "output_type": "execute_result"
    }
   ],
   "source": [
    "df.shape"
   ]
  },
  {
   "cell_type": "code",
   "execution_count": 5,
   "id": "extreme-apartment",
   "metadata": {},
   "outputs": [
    {
     "name": "stdout",
     "output_type": "stream",
     "text": [
      "<class 'pandas.core.frame.DataFrame'>\n",
      "RangeIndex: 150 entries, 0 to 149\n",
      "Data columns (total 19 columns):\n",
      " #   Column                                                      Non-Null Count  Dtype \n",
      "---  ------                                                      --------------  ----- \n",
      " 0   TB prevalence, all forms (per 100 000 population per year)  150 non-null    object\n",
      " 1   1990                                                        150 non-null    object\n",
      " 2   1991                                                        150 non-null    object\n",
      " 3   1992                                                        150 non-null    object\n",
      " 4   1993                                                        150 non-null    object\n",
      " 5   1994                                                        150 non-null    object\n",
      " 6   1995                                                        150 non-null    object\n",
      " 7   1996                                                        150 non-null    int64 \n",
      " 8   1997                                                        150 non-null    int64 \n",
      " 9   1998                                                        150 non-null    int64 \n",
      " 10  1999                                                        150 non-null    int64 \n",
      " 11  2000                                                        150 non-null    int64 \n",
      " 12  2001                                                        150 non-null    int64 \n",
      " 13  2002                                                        150 non-null    int64 \n",
      " 14  2003                                                        150 non-null    int64 \n",
      " 15  2004                                                        150 non-null    object\n",
      " 16  2005                                                        150 non-null    object\n",
      " 17  2006                                                        150 non-null    object\n",
      " 18  2007                                                        150 non-null    object\n",
      "dtypes: int64(8), object(11)\n",
      "memory usage: 22.4+ KB\n"
     ]
    }
   ],
   "source": [
    "df.info()"
   ]
  },
  {
   "cell_type": "code",
   "execution_count": 6,
   "id": "undefined-trigger",
   "metadata": {},
   "outputs": [],
   "source": [
    "# removing commas from values\n",
    "df.replace(',','', regex=True, inplace=True)"
   ]
  },
  {
   "cell_type": "code",
   "execution_count": 7,
   "id": "magnetic-berlin",
   "metadata": {},
   "outputs": [
    {
     "name": "stdout",
     "output_type": "stream",
     "text": [
      "<class 'pandas.core.frame.DataFrame'>\n",
      "RangeIndex: 150 entries, 0 to 149\n",
      "Data columns (total 19 columns):\n",
      " #   Column                                                      Non-Null Count  Dtype \n",
      "---  ------                                                      --------------  ----- \n",
      " 0   TB prevalence, all forms (per 100 000 population per year)  150 non-null    object\n",
      " 1   1990                                                        150 non-null    int64 \n",
      " 2   1991                                                        150 non-null    int64 \n",
      " 3   1992                                                        150 non-null    int64 \n",
      " 4   1993                                                        150 non-null    int64 \n",
      " 5   1994                                                        150 non-null    int64 \n",
      " 6   1995                                                        150 non-null    int64 \n",
      " 7   1996                                                        150 non-null    int64 \n",
      " 8   1997                                                        150 non-null    int64 \n",
      " 9   1998                                                        150 non-null    int64 \n",
      " 10  1999                                                        150 non-null    int64 \n",
      " 11  2000                                                        150 non-null    int64 \n",
      " 12  2001                                                        150 non-null    int64 \n",
      " 13  2002                                                        150 non-null    int64 \n",
      " 14  2003                                                        150 non-null    int64 \n",
      " 15  2004                                                        150 non-null    int64 \n",
      " 16  2005                                                        150 non-null    int64 \n",
      " 17  2006                                                        150 non-null    int64 \n",
      " 18  2007                                                        150 non-null    int64 \n",
      "dtypes: int64(18), object(1)\n",
      "memory usage: 22.4+ KB\n"
     ]
    }
   ],
   "source": [
    "# changing data types from columns\n",
    "df.loc[:, '1990':'1995'] = df.loc[:, '1990':'1995'].apply(pd.to_numeric)\n",
    "df.loc[:, '2004':'2007'] = df.loc[:, '2004':'2007'].apply(pd.to_numeric)\n",
    "df.info()"
   ]
  },
  {
   "cell_type": "code",
   "execution_count": 8,
   "id": "dressed-welding",
   "metadata": {},
   "outputs": [
    {
     "data": {
      "text/plain": [
       "TB prevalence, all forms (per 100 000 population per year)    0\n",
       "1990                                                          0\n",
       "1991                                                          0\n",
       "1992                                                          0\n",
       "1993                                                          0\n",
       "1994                                                          0\n",
       "1995                                                          0\n",
       "1996                                                          0\n",
       "1997                                                          0\n",
       "1998                                                          0\n",
       "1999                                                          0\n",
       "2000                                                          0\n",
       "2001                                                          0\n",
       "2002                                                          0\n",
       "2003                                                          0\n",
       "2004                                                          0\n",
       "2005                                                          0\n",
       "2006                                                          0\n",
       "2007                                                          0\n",
       "dtype: int64"
      ]
     },
     "execution_count": 8,
     "metadata": {},
     "output_type": "execute_result"
    }
   ],
   "source": [
    "# checking missing values\n",
    "df.isna().sum()"
   ]
  },
  {
   "cell_type": "markdown",
   "id": "adjacent-cemetery",
   "metadata": {},
   "source": [
    "# Dimensionality Reduction using PCA"
   ]
  },
  {
   "cell_type": "code",
   "execution_count": 9,
   "id": "quick-institute",
   "metadata": {
    "scrolled": true
   },
   "outputs": [
    {
     "data": {
      "text/html": [
       "<div>\n",
       "<style scoped>\n",
       "    .dataframe tbody tr th:only-of-type {\n",
       "        vertical-align: middle;\n",
       "    }\n",
       "\n",
       "    .dataframe tbody tr th {\n",
       "        vertical-align: top;\n",
       "    }\n",
       "\n",
       "    .dataframe thead th {\n",
       "        text-align: right;\n",
       "    }\n",
       "</style>\n",
       "<table border=\"1\" class=\"dataframe\">\n",
       "  <thead>\n",
       "    <tr style=\"text-align: right;\">\n",
       "      <th></th>\n",
       "      <th>principal component 1</th>\n",
       "      <th>principal component 2</th>\n",
       "    </tr>\n",
       "  </thead>\n",
       "  <tbody>\n",
       "    <tr>\n",
       "      <th>0</th>\n",
       "      <td>-627.109168</td>\n",
       "      <td>45.688302</td>\n",
       "    </tr>\n",
       "    <tr>\n",
       "      <th>1</th>\n",
       "      <td>515.818682</td>\n",
       "      <td>-394.954645</td>\n",
       "    </tr>\n",
       "    <tr>\n",
       "      <th>2</th>\n",
       "      <td>-243.409241</td>\n",
       "      <td>-100.924837</td>\n",
       "    </tr>\n",
       "    <tr>\n",
       "      <th>3</th>\n",
       "      <td>-712.478888</td>\n",
       "      <td>18.789494</td>\n",
       "    </tr>\n",
       "    <tr>\n",
       "      <th>4</th>\n",
       "      <td>-773.710638</td>\n",
       "      <td>-7.587979</td>\n",
       "    </tr>\n",
       "  </tbody>\n",
       "</table>\n",
       "</div>"
      ],
      "text/plain": [
       "   principal component 1  principal component 2\n",
       "0            -627.109168              45.688302\n",
       "1             515.818682            -394.954645\n",
       "2            -243.409241            -100.924837\n",
       "3            -712.478888              18.789494\n",
       "4            -773.710638              -7.587979"
      ]
     },
     "execution_count": 9,
     "metadata": {},
     "output_type": "execute_result"
    }
   ],
   "source": [
    "pca = PCA(n_components=2)\n",
    "principalComponents = pca.fit_transform(df.iloc[:, 1:])\n",
    "principalDF = pd.DataFrame(principalComponents, columns=['principal component 1', 'principal component 2'])\n",
    "principalDF.head()"
   ]
  },
  {
   "cell_type": "code",
   "execution_count": 12,
   "id": "integral-section",
   "metadata": {},
   "outputs": [],
   "source": [
    "X = principalDF.values"
   ]
  },
  {
   "cell_type": "markdown",
   "id": "muslim-reverse",
   "metadata": {},
   "source": [
    "# Visualizing the dataset before forming the clusters"
   ]
  },
  {
   "cell_type": "code",
   "execution_count": 13,
   "id": "material-unknown",
   "metadata": {},
   "outputs": [
    {
     "data": {
      "text/plain": [
       "Text(0.5, 1.0, 'Data Before Clusters')"
      ]
     },
     "execution_count": 13,
     "metadata": {},
     "output_type": "execute_result"
    },
    {
     "data": {
      "image/png": "[encoded data removed]",
      "text/plain": [
       "<Figure size 432x288 with 1 Axes>"
      ]
     },
     "metadata": {
      "needs_background": "light"
     },
     "output_type": "display_data"
    }
   ],
   "source": [
    "plt.scatter(X[:,0], X[:,1])\n",
    "plt.title('Data Before Clusters')"
   ]
  },
  {
   "cell_type": "markdown",
   "id": "common-lodging",
   "metadata": {},
   "source": [
    "# Identifying the # of clusters using the 'elbow' method"
   ]
  },
  {
   "cell_type": "code",
   "execution_count": 14,
   "id": "aging-sally",
   "metadata": {},
   "outputs": [],
   "source": [
    "WCSS = []\n",
    "for i in range(1, 11):\n",
    "    kmeans = KMeans(n_clusters=i, init='k-means++', n_init=10, max_iter=300, random_state=123)\n",
    "    kmeans.fit(X)\n",
    "    WCSS.append(kmeans.inertia_)"
   ]
  },
  {
   "cell_type": "code",
   "execution_count": 15,
   "id": "approximate-competition",
   "metadata": {},
   "outputs": [
    {
     "data": {
      "text/plain": [
       "[119898471.21870437,\n",
       " 31775017.67837239,\n",
       " 18538679.93911558,\n",
       " 14440038.00456763,\n",
       " 10881016.08303192,\n",
       " 8070859.5592419915,\n",
       " 6537184.806849439,\n",
       " 5379473.729202823,\n",
       " 4538859.084460627,\n",
       " 3708204.08912871]"
      ]
     },
     "execution_count": 15,
     "metadata": {},
     "output_type": "execute_result"
    }
   ],
   "source": [
    "WCSS"
   ]
  },
  {
   "cell_type": "code",
   "execution_count": 17,
   "id": "extreme-hazard",
   "metadata": {},
   "outputs": [
    {
     "data": {
      "image/png": "[encoded data removed]",
      "text/plain": [
       "<Figure size 432x288 with 1 Axes>"
      ]
     },
     "metadata": {
      "needs_background": "light"
     },
     "output_type": "display_data"
    }
   ],
   "source": [
    "plt.plot(range(1, 11), WCSS, marker='o')\n",
    "plt.title('Elbow Chart')\n",
    "plt.xlabel('# of Clusters')\n",
    "plt.ylabel('WCSS')\n",
    "plt.show()"
   ]
  },
  {
   "cell_type": "code",
   "execution_count": 20,
   "id": "peripheral-syndication",
   "metadata": {},
   "outputs": [
    {
     "data": {
      "text/plain": [
       "3"
      ]
     },
     "execution_count": 20,
     "metadata": {},
     "output_type": "execute_result"
    }
   ],
   "source": [
    "# Optimal number of clusters\n",
    "kl = KneeLocator(range(1, 11), WCSS, curve=\"convex\", direction=\"decreasing\")\n",
    "kl.elbow"
   ]
  },
  {
   "cell_type": "markdown",
   "id": "featured-tension",
   "metadata": {},
   "source": [
    "# K-Means with 3 clusters"
   ]
  },
  {
   "cell_type": "code",
   "execution_count": 21,
   "id": "disabled-meeting",
   "metadata": {},
   "outputs": [],
   "source": [
    "kmeans = KMeans(n_clusters=3, init='k-means++', n_init=10, max_iter=300, random_state=123)\n",
    "#predict the labels of clusters.\n",
    "label = kmeans.fit_predict(X)"
   ]
  },
  {
   "cell_type": "markdown",
   "id": "pharmaceutical-ideal",
   "metadata": {},
   "source": [
    "# Visualizing the data after applying the clusters"
   ]
  },
  {
   "cell_type": "code",
   "execution_count": 30,
   "id": "excited-subdivision",
   "metadata": {},
   "outputs": [
    {
     "data": {
      "image/png": "[encoded data removed]",
      "text/plain": [
       "<Figure size 432x288 with 1 Axes>"
      ]
     },
     "metadata": {
      "needs_background": "light"
     },
     "output_type": "display_data"
    }
   ],
   "source": [
    "#Getting unique labels\n",
    "u_labels = np.unique(label)\n",
    " \n",
    "#plotting the results:\n",
    "for i in u_labels:\n",
    "    plt.scatter(X[label == i , 0] , X[label == i , 1] , label = i)\n",
    "plt.legend()\n",
    "plt.show()"
   ]
  },
  {
   "cell_type": "code",
   "execution_count": 31,
   "id": "accepted-wisconsin",
   "metadata": {},
   "outputs": [
    {
     "data": {
      "image/png": "[encoded data removed]",
      "text/plain": [
       "<Figure size 432x288 with 1 Axes>"
      ]
     },
     "metadata": {
      "needs_background": "light"
     },
     "output_type": "display_data"
    }
   ],
   "source": [
    "#Getting the Centroids\n",
    "centroids = kmeans.cluster_centers_\n",
    "u_labels = np.unique(label)\n",
    " \n",
    "#plotting the results: \n",
    "for i in u_labels:\n",
    "    plt.scatter(X[label == i , 0] , X[label == i , 1] , label = i)\n",
    "plt.scatter(centroids[:,0] , centroids[:,1] , s = 80, color = 'k')\n",
    "plt.legend()\n",
    "plt.show()"
   ]
  },
  {
   "cell_type": "markdown",
   "id": "northern-simulation",
   "metadata": {},
   "source": [
    "# Model Evaluation - Silhouette score"
   ]
  },
  {
   "cell_type": "code",
   "execution_count": 35,
   "id": "complete-traveler",
   "metadata": {},
   "outputs": [
    {
     "data": {
      "text/plain": [
       "0.6696087193725978"
      ]
     },
     "execution_count": 35,
     "metadata": {},
     "output_type": "execute_result"
    }
   ],
   "source": [
    "silhouette_score(df.iloc[:,1:], kmeans.labels_, metric='euclidean')"
   ]
  }
 ],
 "metadata": {
  "kernelspec": {
   "display_name": "Python 3",
   "language": "python",
   "name": "python3"
  },
  "language_info": {
   "codemirror_mode": {
    "name": "ipython",
    "version": 3
   },
   "file_extension": ".py",
   "mimetype": "text/x-python",
   "name": "python",
   "nbconvert_exporter": "python",
   "pygments_lexer": "ipython3",
   "version": "3.8.5"
  }
 },
 "nbformat": 4,
 "nbformat_minor": 5
}
