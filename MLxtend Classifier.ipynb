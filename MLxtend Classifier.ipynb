{
 "cells": [
  {
   "cell_type": "code",
   "execution_count": 17,
   "id": "artistic-processor",
   "metadata": {},
   "outputs": [],
   "source": [
    "from mlxtend.classifier import Adaline\n",
    "from sklearn.datasets import load_breast_cancer\n",
    "from sklearn.model_selection import train_test_split\n",
    "from mlxtend.evaluate import confusion_matrix\n",
    "from sklearn import metrics\n",
    "\n",
    "import pandas as pd"
   ]
  },
  {
   "cell_type": "code",
   "execution_count": 3,
   "id": "identified-observation",
   "metadata": {},
   "outputs": [],
   "source": [
    "features = load_breast_cancer()['data']\n",
    "target = load_breast_cancer()['target'] "
   ]
  },
  {
   "cell_type": "code",
   "execution_count": 7,
   "id": "interior-squad",
   "metadata": {},
   "outputs": [],
   "source": [
    "# Checking for missing values\n",
    "# pd.DataFrame(features).isna().sum()"
   ]
  },
  {
   "cell_type": "code",
   "execution_count": 11,
   "id": "missing-definition",
   "metadata": {},
   "outputs": [],
   "source": [
    "X_train, X_test, Y_train, Y_test = train_test_split(features, target, train_size=0.70)"
   ]
  },
  {
   "cell_type": "markdown",
   "id": "pharmaceutical-western",
   "metadata": {},
   "source": [
    "# Base Model - Adaline"
   ]
  },
  {
   "cell_type": "code",
   "execution_count": 9,
   "id": "progressive-teacher",
   "metadata": {},
   "outputs": [],
   "source": [
    "model = Adaline(epochs=100)"
   ]
  },
  {
   "cell_type": "code",
   "execution_count": 12,
   "id": "hawaiian-cedar",
   "metadata": {},
   "outputs": [
    {
     "data": {
      "text/plain": [
       "<mlxtend.classifier.adaline.Adaline at 0x7f3106d17280>"
      ]
     },
     "execution_count": 12,
     "metadata": {},
     "output_type": "execute_result"
    }
   ],
   "source": [
    "model.fit(X_train, Y_train)"
   ]
  },
  {
   "cell_type": "code",
   "execution_count": 13,
   "id": "subtle-composer",
   "metadata": {},
   "outputs": [
    {
     "name": "stdout",
     "output_type": "stream",
     "text": [
      "[1 1 1 1 0 0 0 1 0 1 0 1 0 0 1 0 0 1 1 0 1 0 0 1 1 1 1 0 0 1 1 1 1 1 0 1 1\n",
      " 1 1 0 1 1 1 1 1 1 0 0 1 1 1 0 1 1 1 0 1 1 0 1 1 1 1 0 1 1 1 1 1 0 1 1 0 1\n",
      " 0 0 1 1 0 0 1 1 1 1 0 0 1 1 0 1 1 1 1 0 0 1 1 1 0 1 1 0 1 1 1 1 0 1 1 1 0\n",
      " 1 1 1 1 1 1 0 1 0 1 1 0 0 0 1 1 1 1 1 1 1 0 0 1 0 0 1 1 0 1 1 0 1 1 1 0 1\n",
      " 0 0 1 1 1 0 1 0 0 1 0 1 1 0 1 0 0 1 0 1 1 1 0]\n"
     ]
    }
   ],
   "source": [
    "result = model.predict(X_test)\n",
    "print(result)"
   ]
  },
  {
   "cell_type": "code",
   "execution_count": 14,
   "id": "light-tribune",
   "metadata": {},
   "outputs": [
    {
     "name": "stdout",
     "output_type": "stream",
     "text": [
      "[1 1 1 1 0 0 0 1 0 1 0 0 0 0 1 0 0 1 1 0 1 0 0 0 1 1 1 0 0 1 1 1 1 1 0 0 1\n",
      " 1 1 0 1 1 1 1 1 1 0 0 1 1 1 0 1 1 1 0 1 0 0 1 1 0 1 0 1 1 1 1 1 0 1 1 0 1\n",
      " 0 0 1 1 0 0 1 1 1 1 0 0 1 1 0 1 1 1 1 0 0 1 1 1 0 1 1 0 1 1 1 1 0 1 1 1 0\n",
      " 1 1 1 1 1 1 0 1 0 1 0 0 0 0 1 0 1 1 1 1 1 0 0 1 0 0 1 1 0 0 1 0 1 1 1 0 1\n",
      " 0 0 0 1 1 0 1 0 0 1 1 1 1 0 1 0 0 0 0 1 1 1 0]\n"
     ]
    }
   ],
   "source": [
    "print(Y_test)"
   ]
  },
  {
   "cell_type": "code",
   "execution_count": 16,
   "id": "straight-observation",
   "metadata": {},
   "outputs": [
    {
     "data": {
      "text/plain": [
       "array([[ 59,  10],\n",
       "       [  1, 101]])"
      ]
     },
     "execution_count": 16,
     "metadata": {},
     "output_type": "execute_result"
    }
   ],
   "source": [
    "confusion_matrix(Y_test, result)"
   ]
  },
  {
   "cell_type": "code",
   "execution_count": 18,
   "id": "crucial-congo",
   "metadata": {},
   "outputs": [
    {
     "data": {
      "text/plain": [
       "0.935672514619883"
      ]
     },
     "execution_count": 18,
     "metadata": {},
     "output_type": "execute_result"
    }
   ],
   "source": [
    "metrics.accuracy_score(Y_test, result)"
   ]
  }
 ],
 "metadata": {
  "kernelspec": {
   "display_name": "Python 3",
   "language": "python",
   "name": "python3"
  },
  "language_info": {
   "codemirror_mode": {
    "name": "ipython",
    "version": 3
   },
   "file_extension": ".py",
   "mimetype": "text/x-python",
   "name": "python",
   "nbconvert_exporter": "python",
   "pygments_lexer": "ipython3",
   "version": "3.8.5"
  }
 },
 "nbformat": 4,
 "nbformat_minor": 5
}
