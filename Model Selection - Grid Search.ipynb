{
 "cells": [
  {
   "cell_type": "code",
   "execution_count": 98,
   "id": "overhead-heart",
   "metadata": {},
   "outputs": [],
   "source": [
    "from sklearn.datasets import make_classification\n",
    "from sklearn.ensemble import RandomForestClassifier\n",
    "from sklearn.model_selection import train_test_split\n",
    "from sklearn.model_selection import GridSearchCV\n",
    "from sklearn import metrics"
   ]
  },
  {
   "cell_type": "code",
   "execution_count": 99,
   "id": "rental-advocate",
   "metadata": {},
   "outputs": [],
   "source": [
    "data = make_classification(n_samples=1000, n_features=15, n_classes=2)"
   ]
  },
  {
   "cell_type": "code",
   "execution_count": 100,
   "id": "immune-hudson",
   "metadata": {},
   "outputs": [],
   "source": [
    "features = data[0]\n",
    "target = data[1]"
   ]
  },
  {
   "cell_type": "code",
   "execution_count": 101,
   "id": "strategic-dominican",
   "metadata": {},
   "outputs": [],
   "source": [
    "# Splitting the data\n",
    "X_train, X_test, Y_train, Y_test = train_test_split(features, target, train_size=0.70)"
   ]
  },
  {
   "cell_type": "markdown",
   "id": "competent-african",
   "metadata": {},
   "source": [
    "# Base Model - Random Forest"
   ]
  },
  {
   "cell_type": "code",
   "execution_count": 102,
   "id": "proprietary-diagram",
   "metadata": {},
   "outputs": [],
   "source": [
    "base_model = RandomForestClassifier()"
   ]
  },
  {
   "cell_type": "code",
   "execution_count": 103,
   "id": "frozen-operator",
   "metadata": {},
   "outputs": [
    {
     "data": {
      "text/plain": [
       "RandomForestClassifier()"
      ]
     },
     "execution_count": 103,
     "metadata": {},
     "output_type": "execute_result"
    }
   ],
   "source": [
    "base_model.fit(X_train, Y_train)"
   ]
  },
  {
   "cell_type": "code",
   "execution_count": 104,
   "id": "directed-paste",
   "metadata": {},
   "outputs": [
    {
     "name": "stdout",
     "output_type": "stream",
     "text": [
      "[0 1 1 1 0 0 1 0 1 0 0 0 1 0 1 0 1 1 1 0 1 0 1 0 0 0 0 0 1 0 1 0 1 0 1 1 0\n",
      " 1 0 1 1 1 0 0 0 1 1 0 1 0 1 1 0 0 1 0 1 0 0 0 0 0 1 1 1 1 0 0 0 0 0 0 1 1\n",
      " 1 0 1 0 0 1 0 0 1 1 1 0 0 1 1 1 1 1 0 1 0 0 0 0 0 1 0 0 0 1 0 0 1 1 0 0 1\n",
      " 1 1 0 0 0 1 0 1 0 1 1 0 0 1 0 0 1 0 0 1 1 1 1 0 1 0 0 1 1 0 0 1 1 1 1 1 0\n",
      " 0 0 1 0 1 0 0 0 0 0 0 1 1 1 0 1 1 1 0 1 1 0 0 0 1 0 1 1 1 0 1 0 1 0 1 0 1\n",
      " 1 0 1 1 1 0 1 0 0 0 0 1 1 0 0 0 1 0 1 0 0 1 0 0 1 0 0 1 0 0 0 0 1 0 0 1 1\n",
      " 1 0 0 1 0 0 0 0 0 0 0 0 1 0 0 1 1 0 1 0 0 1 0 1 0 1 0 0 1 1 0 1 0 0 1 0 1\n",
      " 0 0 0 1 0 1 1 0 0 0 0 0 0 1 1 1 1 1 1 0 0 1 1 1 1 1 1 0 0 1 1 1 0 1 0 0 0\n",
      " 0 1 1 1]\n"
     ]
    }
   ],
   "source": [
    "Y_pred = base_model.predict(X_test)\n",
    "print(Y_pred)"
   ]
  },
  {
   "cell_type": "code",
   "execution_count": 105,
   "id": "gorgeous-advice",
   "metadata": {},
   "outputs": [
    {
     "name": "stdout",
     "output_type": "stream",
     "text": [
      "[0 1 1 1 0 0 1 0 1 0 0 0 1 0 1 0 0 1 1 0 1 0 1 0 0 0 0 0 1 0 1 0 1 0 1 1 0\n",
      " 1 0 0 1 1 0 0 0 1 1 0 1 0 1 1 0 0 1 0 1 0 0 0 0 0 1 1 1 1 0 0 0 0 0 0 1 1\n",
      " 1 0 1 1 0 1 0 0 1 1 1 0 0 1 1 0 1 1 0 1 0 0 0 0 0 1 0 0 0 1 0 0 1 1 0 0 1\n",
      " 1 1 0 0 0 1 0 1 0 1 1 0 0 1 0 0 1 0 0 1 1 1 1 0 1 0 0 1 1 0 0 1 1 1 1 1 0\n",
      " 0 0 1 0 0 0 0 0 1 0 0 1 1 1 0 1 1 1 1 1 1 0 0 0 1 0 1 1 1 0 1 0 1 0 1 0 1\n",
      " 1 0 1 1 1 0 1 0 0 0 0 1 1 0 0 0 1 0 1 0 0 1 0 0 1 0 0 1 0 0 0 0 1 0 0 1 1\n",
      " 1 0 1 1 0 0 0 0 0 0 0 0 1 0 0 1 1 0 1 0 0 1 0 1 0 1 1 1 1 1 0 1 0 0 1 0 0\n",
      " 0 0 0 1 0 1 1 0 0 0 0 0 0 1 1 1 1 1 1 0 0 1 1 1 1 1 1 0 0 1 1 1 0 1 0 0 0\n",
      " 1 1 1 1]\n"
     ]
    }
   ],
   "source": [
    "print(Y_test)"
   ]
  },
  {
   "cell_type": "code",
   "execution_count": 106,
   "id": "mounted-barrel",
   "metadata": {},
   "outputs": [
    {
     "data": {
      "text/plain": [
       "0.96"
      ]
     },
     "execution_count": 106,
     "metadata": {},
     "output_type": "execute_result"
    }
   ],
   "source": [
    "metrics.accuracy_score(Y_test, Y_pred)"
   ]
  },
  {
   "cell_type": "markdown",
   "id": "political-conversion",
   "metadata": {},
   "source": [
    "# Manual Hyperparameter tuning"
   ]
  },
  {
   "cell_type": "code",
   "execution_count": 107,
   "id": "opposed-presence",
   "metadata": {},
   "outputs": [],
   "source": [
    "model2 = RandomForestClassifier(n_estimators=20, max_depth=5, max_features=12)"
   ]
  },
  {
   "cell_type": "code",
   "execution_count": 108,
   "id": "established-motel",
   "metadata": {},
   "outputs": [
    {
     "data": {
      "text/plain": [
       "RandomForestClassifier(max_depth=5, max_features=12, n_estimators=20)"
      ]
     },
     "execution_count": 108,
     "metadata": {},
     "output_type": "execute_result"
    }
   ],
   "source": [
    "model2.fit(X_train, Y_train)"
   ]
  },
  {
   "cell_type": "code",
   "execution_count": 109,
   "id": "golden-juice",
   "metadata": {},
   "outputs": [],
   "source": [
    "Y_pred = model2.predict(X_test)"
   ]
  },
  {
   "cell_type": "code",
   "execution_count": 110,
   "id": "exclusive-mining",
   "metadata": {},
   "outputs": [
    {
     "data": {
      "text/plain": [
       "0.95"
      ]
     },
     "execution_count": 110,
     "metadata": {},
     "output_type": "execute_result"
    }
   ],
   "source": [
    "metrics.accuracy_score(Y_test, Y_pred)"
   ]
  },
  {
   "cell_type": "markdown",
   "id": "successful-arizona",
   "metadata": {},
   "source": [
    "# Grid Search tuning"
   ]
  },
  {
   "cell_type": "code",
   "execution_count": 111,
   "id": "electric-publication",
   "metadata": {},
   "outputs": [],
   "source": [
    "params = {\"n_estimators\": [15, 20, 25, 30, 35, 40, 45,50], \n",
    "          \"max_depth\": [5, 10, 15, 20]}"
   ]
  },
  {
   "cell_type": "code",
   "execution_count": 112,
   "id": "dressed-ballot",
   "metadata": {},
   "outputs": [],
   "source": [
    "grid_model = GridSearchCV(base_model, param_grid=params, cv=3)"
   ]
  },
  {
   "cell_type": "code",
   "execution_count": 113,
   "id": "greek-latitude",
   "metadata": {},
   "outputs": [
    {
     "data": {
      "text/plain": [
       "GridSearchCV(cv=3, estimator=RandomForestClassifier(),\n",
       "             param_grid={'max_depth': [5, 10, 15, 20],\n",
       "                         'n_estimators': [15, 20, 25, 30, 35, 40, 45, 50]})"
      ]
     },
     "execution_count": 113,
     "metadata": {},
     "output_type": "execute_result"
    }
   ],
   "source": [
    "grid_model.fit(X_train, Y_train)"
   ]
  },
  {
   "cell_type": "code",
   "execution_count": 114,
   "id": "sexual-genealogy",
   "metadata": {},
   "outputs": [
    {
     "data": {
      "text/plain": [
       "{'max_depth': 20, 'n_estimators': 20}"
      ]
     },
     "execution_count": 114,
     "metadata": {},
     "output_type": "execute_result"
    }
   ],
   "source": [
    "# Getting the best model parameters\n",
    "grid_model.best_params_"
   ]
  },
  {
   "cell_type": "markdown",
   "id": "convenient-optimization",
   "metadata": {},
   "source": [
    "# Random Forest with best parameters"
   ]
  },
  {
   "cell_type": "code",
   "execution_count": 115,
   "id": "cheap-feeling",
   "metadata": {},
   "outputs": [],
   "source": [
    "model3 = RandomForestClassifier(max_depth=20, n_estimators=20)"
   ]
  },
  {
   "cell_type": "code",
   "execution_count": 116,
   "id": "directed-verse",
   "metadata": {},
   "outputs": [
    {
     "data": {
      "text/plain": [
       "RandomForestClassifier(max_depth=20, n_estimators=20)"
      ]
     },
     "execution_count": 116,
     "metadata": {},
     "output_type": "execute_result"
    }
   ],
   "source": [
    "model3.fit(X_train, Y_train)"
   ]
  },
  {
   "cell_type": "code",
   "execution_count": 117,
   "id": "extended-annotation",
   "metadata": {},
   "outputs": [],
   "source": [
    "Y_pred = model3.predict(X_test)"
   ]
  },
  {
   "cell_type": "code",
   "execution_count": 118,
   "id": "collaborative-angle",
   "metadata": {},
   "outputs": [
    {
     "data": {
      "text/plain": [
       "0.9466666666666667"
      ]
     },
     "execution_count": 118,
     "metadata": {},
     "output_type": "execute_result"
    }
   ],
   "source": [
    "metrics.accuracy_score(Y_test, Y_pred)"
   ]
  }
 ],
 "metadata": {
  "kernelspec": {
   "display_name": "Python 3",
   "language": "python",
   "name": "python3"
  },
  "language_info": {
   "codemirror_mode": {
    "name": "ipython",
    "version": 3
   },
   "file_extension": ".py",
   "mimetype": "text/x-python",
   "name": "python",
   "nbconvert_exporter": "python",
   "pygments_lexer": "ipython3",
   "version": "3.8.5"
  }
 },
 "nbformat": 4,
 "nbformat_minor": 5
}
